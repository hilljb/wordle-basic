{
 "cells": [
  {
   "cell_type": "code",
   "execution_count": 1,
   "id": "3c344be8-a996-41a1-87b5-67d828517259",
   "metadata": {},
   "outputs": [
    {
     "data": {
      "text/plain": [
       "['aback', 'abase', 'abate', 'abbey', 'abbot']"
      ]
     },
     "execution_count": 1,
     "metadata": {},
     "output_type": "execute_result"
    }
   ],
   "source": [
    "filename = 'wordle-answers-alphabetical.txt'\n",
    "f_p = open(filename, 'r')\n",
    "words = []\n",
    "for line in f_p:\n",
    "    words.append(line.replace('\\n',''))\n",
    "f_p.close()\n",
    "\n",
    "words[0:5]"
   ]
  },
  {
   "cell_type": "markdown",
   "id": "7fa78761-3e96-4f1a-aa93-ba3dba073e2b",
   "metadata": {},
   "source": [
    "## Find the most common letters that are in words"
   ]
  },
  {
   "cell_type": "code",
   "execution_count": 2,
   "id": "d87f047c-7e89-4f1f-bad0-405033a2a805",
   "metadata": {},
   "outputs": [],
   "source": [
    "alpha = {\n",
    "    'a': 0,\n",
    "    'b': 0,\n",
    "    'c': 0,\n",
    "    'd': 0,\n",
    "    'e': 0,\n",
    "    'f': 0,\n",
    "    'g': 0,\n",
    "    'h': 0,\n",
    "    'i': 0,\n",
    "    'j': 0,\n",
    "    'k': 0,\n",
    "    'l': 0,\n",
    "    'm': 0,\n",
    "    'n': 0,\n",
    "    'o': 0,\n",
    "    'p': 0,\n",
    "    'q': 0,\n",
    "    'r': 0,\n",
    "    's': 0,\n",
    "    't': 0,\n",
    "    'u': 0,\n",
    "    'v': 0,\n",
    "    'w': 0,\n",
    "    'x': 0,\n",
    "    'y': 0,\n",
    "    'z': 0,\n",
    "}"
   ]
  },
  {
   "cell_type": "code",
   "execution_count": 3,
   "id": "05550a1f-712d-4dc8-bbeb-e85520c1da58",
   "metadata": {},
   "outputs": [
    {
     "data": {
      "text/plain": [
       "{'j': 27,\n",
       " 'q': 29,\n",
       " 'z': 35,\n",
       " 'x': 37,\n",
       " 'v': 149,\n",
       " 'w': 194,\n",
       " 'k': 202,\n",
       " 'f': 207,\n",
       " 'b': 267,\n",
       " 'm': 298,\n",
       " 'g': 300,\n",
       " 'p': 346,\n",
       " 'd': 370,\n",
       " 'h': 379,\n",
       " 'y': 417,\n",
       " 'c': 448,\n",
       " 'u': 457,\n",
       " 'n': 550,\n",
       " 's': 618,\n",
       " 'i': 647,\n",
       " 'l': 648,\n",
       " 't': 667,\n",
       " 'o': 673,\n",
       " 'r': 837,\n",
       " 'a': 909,\n",
       " 'e': 1056}"
      ]
     },
     "execution_count": 3,
     "metadata": {},
     "output_type": "execute_result"
    }
   ],
   "source": [
    "for word in words:\n",
    "    res = []\n",
    "    [res.append(x) for x in word if x not in res]\n",
    "    \n",
    "    for x in res:\n",
    "        alpha[x] += 1\n",
    "        \n",
    "dict(sorted(alpha.items(), key=lambda item: item[1]))"
   ]
  },
  {
   "cell_type": "markdown",
   "id": "2a790b99-6d91-41c8-8cb7-bffbfd2e5c69",
   "metadata": {},
   "source": [
    "The most common letters in words are e, a, r, o, and t.\n",
    "\n",
    "The most common vowels are: e, a, o\n",
    "The most common consonants are: r, t, l, s\n",
    "\n",
    "For our starting word, let's find a word with r, t, l, s, and e."
   ]
  },
  {
   "cell_type": "code",
   "execution_count": 4,
   "id": "7ccf97b6-7f57-4df9-afd9-cde315a773b3",
   "metadata": {},
   "outputs": [
    {
     "name": "stdout",
     "output_type": "stream",
     "text": [
      "alert\n",
      "alter\n",
      "later\n"
     ]
    }
   ],
   "source": [
    "for word in words:\n",
    "    if all([x in word for x in ['r','t','l','e']]):\n",
    "        print(word)"
   ]
  },
  {
   "cell_type": "markdown",
   "id": "124fbbd7-ff08-47bb-887a-83168b9b1bbf",
   "metadata": {},
   "source": [
    "I think we'll use \"alert\" as our start word.\n",
    "\n",
    "I've also started to use \"raise\" as a first word."
   ]
  },
  {
   "cell_type": "markdown",
   "id": "9a176b77-37f9-4707-a089-d8f0fcf855ab",
   "metadata": {},
   "source": [
    "## Find words"
   ]
  },
  {
   "cell_type": "code",
   "execution_count": 9,
   "id": "11680948-b92a-4e89-a835-fa858becce5f",
   "metadata": {},
   "outputs": [
    {
     "name": "stdout",
     "output_type": "stream",
     "text": [
      "['a', 's', 'l']\n",
      " \n",
      "shall\n",
      "small\n"
     ]
    }
   ],
   "source": [
    "must_include = ['a','s','l']\n",
    "cannot_include = ['r','i','e','n','t','c','p']\n",
    "not_in_location = {\n",
    "}\n",
    "\n",
    "print(must_include)\n",
    "print(' ')\n",
    "\n",
    "pwords = []\n",
    "\n",
    "for word in words:\n",
    "    if not all([x in word for x in must_include]):\n",
    "        continue\n",
    "    if any([x in word for x in cannot_include]):\n",
    "        continue\n",
    "    if any(\n",
    "        [word[not_in_location[k]] == k for k in not_in_location.keys()]\n",
    "    ):\n",
    "        continue\n",
    "    else:\n",
    "        if word[1]!='a' and word[3]!='s' and word[0]=='s' and word[1]!='l' and word[2]=='a' and word[3]=='l':\n",
    "            print(word)\n",
    "            pwords.append(word)"
   ]
  },
  {
   "cell_type": "code",
   "execution_count": 8,
   "id": "59195e79-57eb-4865-a259-4ed1d538ca01",
   "metadata": {},
   "outputs": [
    {
     "data": {
      "text/plain": [
       "{'b': 0,\n",
       " 'e': 0,\n",
       " 'f': 0,\n",
       " 'g': 0,\n",
       " 'i': 0,\n",
       " 'j': 0,\n",
       " 'k': 0,\n",
       " 'n': 0,\n",
       " 'o': 0,\n",
       " 'q': 0,\n",
       " 'r': 0,\n",
       " 't': 0,\n",
       " 'u': 0,\n",
       " 'v': 0,\n",
       " 'x': 0,\n",
       " 'z': 0,\n",
       " 'd': 1,\n",
       " 'm': 1,\n",
       " 'p': 1,\n",
       " 'w': 1,\n",
       " 'y': 1,\n",
       " 'h': 2,\n",
       " 'c': 3,\n",
       " 'a': 6,\n",
       " 'l': 6,\n",
       " 's': 6}"
      ]
     },
     "execution_count": 8,
     "metadata": {},
     "output_type": "execute_result"
    }
   ],
   "source": [
    "beta = {\n",
    "    'a': 0,\n",
    "    'b': 0,\n",
    "    'c': 0,\n",
    "    'd': 0,\n",
    "    'e': 0,\n",
    "    'f': 0,\n",
    "    'g': 0,\n",
    "    'h': 0,\n",
    "    'i': 0,\n",
    "    'j': 0,\n",
    "    'k': 0,\n",
    "    'l': 0,\n",
    "    'm': 0,\n",
    "    'n': 0,\n",
    "    'o': 0,\n",
    "    'p': 0,\n",
    "    'q': 0,\n",
    "    'r': 0,\n",
    "    's': 0,\n",
    "    't': 0,\n",
    "    'u': 0,\n",
    "    'v': 0,\n",
    "    'w': 0,\n",
    "    'x': 0,\n",
    "    'y': 0,\n",
    "    'z': 0,\n",
    "}\n",
    "\n",
    "for word in pwords:\n",
    "    res = []\n",
    "    [res.append(x) for x in word if x not in res]\n",
    "    \n",
    "    for x in res:\n",
    "        beta[x] += 1\n",
    "        \n",
    "dict(sorted(beta.items(), key=lambda item: item[1]))"
   ]
  },
  {
   "cell_type": "code",
   "execution_count": 61,
   "id": "86080afe-f840-4d41-bfea-f46496e5508f",
   "metadata": {},
   "outputs": [
    {
     "name": "stdout",
     "output_type": "stream",
     "text": [
      "aglow\n",
      "allow\n",
      "alloy\n",
      "along\n",
      "aloof\n",
      "aloud\n",
      "koala\n",
      "loamy\n",
      "polka\n"
     ]
    }
   ],
   "source": [
    "for word in pwords:\n",
    "    if all([l in word for l in ['a','l','o']]):\n",
    "        print(word)"
   ]
  },
  {
   "cell_type": "code",
   "execution_count": 21,
   "id": "0a28da58-aa5f-4fb8-8a18-79648950d7e4",
   "metadata": {},
   "outputs": [
    {
     "data": {
      "text/plain": [
       "30"
      ]
     },
     "execution_count": 21,
     "metadata": {},
     "output_type": "execute_result"
    }
   ],
   "source": [
    "2*2 + 2*3 + 5*4"
   ]
  },
  {
   "cell_type": "code",
   "execution_count": 22,
   "id": "c05bc2b9-501e-4965-856d-24e8a1d25e34",
   "metadata": {},
   "outputs": [
    {
     "data": {
      "text/plain": [
       "3.3333333333333335"
      ]
     },
     "execution_count": 22,
     "metadata": {},
     "output_type": "execute_result"
    }
   ],
   "source": [
    "30/9"
   ]
  },
  {
   "cell_type": "code",
   "execution_count": null,
   "id": "372591a2-513c-451d-ae5c-c6561734e35c",
   "metadata": {},
   "outputs": [],
   "source": []
  }
 ],
 "metadata": {
  "kernelspec": {
   "display_name": "Python 3 (ipykernel)",
   "language": "python",
   "name": "python3"
  },
  "language_info": {
   "codemirror_mode": {
    "name": "ipython",
    "version": 3
   },
   "file_extension": ".py",
   "mimetype": "text/x-python",
   "name": "python",
   "nbconvert_exporter": "python",
   "pygments_lexer": "ipython3",
   "version": "3.9.7"
  }
 },
 "nbformat": 4,
 "nbformat_minor": 5
}
